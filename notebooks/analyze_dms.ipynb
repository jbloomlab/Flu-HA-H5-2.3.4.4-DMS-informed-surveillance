{
 "cells": [
  {
   "cell_type": "markdown",
   "id": "52981181-e9fb-42be-95f4-8cdcea0318b9",
   "metadata": {},
   "source": [
    "# Analyze the deep mutational scanning phenotypes of the sera"
   ]
  },
  {
   "cell_type": "code",
   "execution_count": null,
   "id": "d0b80714-78a9-4793-a641-5ad43440219c",
   "metadata": {
    "editable": true,
    "slideshow": {
     "slide_type": ""
    },
    "tags": [
     "parameters"
    ]
   },
   "outputs": [],
   "source": [
    "# this cell is tagged `parameters` and so is parameterized by `papermill`\n",
    "input_tsv = None\n",
    "analysis_filters = None"
   ]
  }
 ],
 "metadata": {
  "kernelspec": {
   "display_name": "Python 3 (ipykernel)",
   "language": "python",
   "name": "python3"
  },
  "language_info": {
   "codemirror_mode": {
    "name": "ipython",
    "version": 3
   },
   "file_extension": ".py",
   "mimetype": "text/x-python",
   "name": "python",
   "nbconvert_exporter": "python",
   "pygments_lexer": "ipython3",
   "version": "3.12.5"
  }
 },
 "nbformat": 4,
 "nbformat_minor": 5
}
